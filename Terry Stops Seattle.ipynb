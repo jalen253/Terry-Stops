{
 "cells": [
  {
   "attachments": {
    "The%20Police!!.jpg": {
     "image/jpeg": "[encoded data removed]"
    }
   },
   "cell_type": "markdown",
   "id": "dd423db4",
   "metadata": {},
   "source": [
    "## Terry Stops\n",
    "\n",
    "\n",
    "#### What is it?\n",
    "\n",
    "The purpose of a Terry stop is to conduct a brief investigation to confirm or deny that the suspect is involved in criminal activity. A law enforcement officer may initiate a Terry stop when he or she suspects that an individual is committing, has committed, or is about to commit a crime but probable cause does not yet exist to arrest and the officer wants to “stop” the suspect and investigate.If, during the stop, probable cause to arrest is developed, the suspect will be arrested.\n",
    "\n",
    "\n",
    "### Business Problem\n",
    "\n",
    "As More prominant bias appears across america in police precincts what are the odds of you getting stopped and is it really beneficial towards the city of seattle? What would make the stop benificial is if the stops results in arrest due to the reasonable suspicion but \n",
    "\n",
    "\n",
    "####\n",
    "The results of stops are more Justified arrests VS arrests not being justified and just being a product of racial bias\n",
    "\n",
    "![The%20Police!!.jpg](attachment:The%20Police!!.jpg)"
   ]
  },
  {
   "cell_type": "code",
   "execution_count": 1,
   "id": "57498006",
   "metadata": {},
   "outputs": [
    {
     "name": "stderr",
     "output_type": "stream",
     "text": [
      "WARNING: You are using pip version 21.2.4; however, version 22.3.1 is available.\n",
      "You should consider upgrading via the 'C:\\Users\\metropolitanparkapts\\AppData\\Local\\Programs\\Python\\Python310\\python.exe -m pip install --upgrade pip' command.\n"
     ]
    },
    {
     "name": "stdout",
     "output_type": "stream",
     "text": [
      "Requirement already satisfied: yellowbrick in c:\\users\\metropolitanparkapts\\appdata\\local\\programs\\python\\python310\\lib\\site-packages (1.4)\n",
      "Requirement already satisfied: numpy>=1.16.0 in c:\\users\\metropolitanparkapts\\appdata\\local\\programs\\python\\python310\\lib\\site-packages (from yellowbrick) (1.22.3)\n",
      "Requirement already satisfied: cycler>=0.10.0 in c:\\users\\metropolitanparkapts\\appdata\\local\\programs\\python\\python310\\lib\\site-packages (from yellowbrick) (0.11.0)\n",
      "Requirement already satisfied: matplotlib!=3.0.0,>=2.0.2 in c:\\users\\metropolitanparkapts\\appdata\\local\\programs\\python\\python310\\lib\\site-packages (from yellowbrick) (3.5.1)\n",
      "Requirement already satisfied: scikit-learn>=1.0.0 in c:\\users\\metropolitanparkapts\\appdata\\local\\programs\\python\\python310\\lib\\site-packages (from yellowbrick) (1.0.2)\n",
      "Requirement already satisfied: scipy>=1.0.0 in c:\\users\\metropolitanparkapts\\appdata\\local\\programs\\python\\python310\\lib\\site-packages (from yellowbrick) (1.8.0)\n",
      "Requirement already satisfied: pyparsing>=2.2.1 in c:\\users\\metropolitanparkapts\\appdata\\local\\programs\\python\\python310\\lib\\site-packages (from matplotlib!=3.0.0,>=2.0.2->yellowbrick) (3.0.7)\n",
      "Requirement already satisfied: pillow>=6.2.0 in c:\\users\\metropolitanparkapts\\appdata\\local\\programs\\python\\python310\\lib\\site-packages (from matplotlib!=3.0.0,>=2.0.2->yellowbrick) (9.0.1)\n",
      "Requirement already satisfied: kiwisolver>=1.0.1 in c:\\users\\metropolitanparkapts\\appdata\\local\\programs\\python\\python310\\lib\\site-packages (from matplotlib!=3.0.0,>=2.0.2->yellowbrick) (1.3.2)\n",
      "Requirement already satisfied: python-dateutil>=2.7 in c:\\users\\metropolitanparkapts\\appdata\\local\\programs\\python\\python310\\lib\\site-packages (from matplotlib!=3.0.0,>=2.0.2->yellowbrick) (2.8.2)\n",
      "Requirement already satisfied: fonttools>=4.22.0 in c:\\users\\metropolitanparkapts\\appdata\\local\\programs\\python\\python310\\lib\\site-packages (from matplotlib!=3.0.0,>=2.0.2->yellowbrick) (4.30.0)\n",
      "Requirement already satisfied: packaging>=20.0 in c:\\users\\metropolitanparkapts\\appdata\\local\\programs\\python\\python310\\lib\\site-packages (from matplotlib!=3.0.0,>=2.0.2->yellowbrick) (21.3)\n",
      "Requirement already satisfied: six>=1.5 in c:\\users\\metropolitanparkapts\\appdata\\local\\programs\\python\\python310\\lib\\site-packages (from python-dateutil>=2.7->matplotlib!=3.0.0,>=2.0.2->yellowbrick) (1.16.0)\n",
      "Requirement already satisfied: threadpoolctl>=2.0.0 in c:\\users\\metropolitanparkapts\\appdata\\local\\programs\\python\\python310\\lib\\site-packages (from scikit-learn>=1.0.0->yellowbrick) (3.1.0)\n",
      "Requirement already satisfied: joblib>=0.11 in c:\\users\\metropolitanparkapts\\appdata\\local\\programs\\python\\python310\\lib\\site-packages (from scikit-learn>=1.0.0->yellowbrick) (1.1.0)\n"
     ]
    }
   ],
   "source": [
    "terry = pd.read_csv('terry_Oct_2022.csv')\n",
    "import pandas as pd \n",
    "import numpy as np\n",
    "from sklearn.model_selection import train_test_split, GridSearchCV, cross_val_score\n",
    "from sklearn.metrics import accuracy_score, recall_score, precision_score, f1_score\n",
    "from matplotlib import pyplot as plt\n",
    "%matplotlib inline\n",
    "import seaborn as sns\n",
    "from sklearn.metrics import plot_confusion_matrix\n",
    "from datetime import datetime as dt\n",
    "from sklearn.compose import make_column_transformer\n",
    "from sklearn.metrics import plot_confusion_matrix, accuracy_score, recall_score, f1_score, precision_score,\\\n",
    "    classification_report, roc_auc_score\n",
    "from sklearn.pipeline import Pipeline\n",
    "from sklearn.ensemble import RandomForestClassifier\n",
    "from sklearn.compose import ColumnTransformer\n",
    "from sklearn.neighbors import KNeighborsClassifier, NearestNeighbors\n",
    "from sklearn.model_selection import train_test_split, KFold, GridSearchCV\n"
   ]
  },
  {
   "cell_type": "markdown",
   "id": "17f93f69",
   "metadata": {},
   "source": [
    "## Data Understanding - Exploration\n"
   ]
  },
  {
   "cell_type": "markdown",
   "id": "5b251564",
   "metadata": {},
   "source": [
    "##### Column Name\tDescription\tType\n",
    "Subject Age Group\t\n",
    "Subject Age Group (10 year increments) as reported by the officer.\n",
    "\n",
    "Subject ID\t-- Removing (to broad) \n",
    "Key, generated daily, identifying unique subjects in the dataset using a character to character match of first name and last name. \"Null\" values indicate an \"anonymous\" or \"unidentified\" subject. Subjects of a Terry Stop are not required to present identification.\n",
    "\n",
    "GO / SC Num\t\n",
    "General Offense or Street Check number, relating the Terry Stop to the parent report. This field may have a one to many relationship in the data.\n",
    "\n",
    "\n",
    "Terry Stop ID\t\n",
    "Key identifying unique Terry Stop reports.\n",
    "\n",
    "Stop Resolution\t\n",
    "Resolution of the stop as reported by the officer.\n",
    "\n",
    "Weapon Type\t\n",
    "Type of weapon, if any, identified during a search or frisk of the subject. Indicates \"None\" if no weapons was found.\n",
    "\n",
    "Officer ID\t\n",
    "Key identifying unique officers in the dataset.\n",
    "\n",
    "Officer YOB\t\n",
    "Year of birth, as reported by the officer.\n",
    "\n",
    "Officer Gender\t\n",
    "Gender of the officer, as reported by the officer.\n",
    "\n",
    "Officer Race\t\n",
    "Race of the officer, as reported by the officer.\n",
    "\n",
    "Subject Perceived Race\t\n",
    "Perceived race of the subject, as reported by the officer.\n",
    "\n",
    "Subject Perceived Gender\t\n",
    "Perceived gender of the subject, as reported by the officer.\n",
    "\n",
    "Reported Date\t\n",
    "Date the report was filed in the Records Management System (RMS). Not necessarily the date the stop occurred but generally within 1 day.\n",
    "\n",
    "Date & Time\n",
    "\n",
    "Reported Time\t\n",
    "Time the stop was reported in the Records Management System (RMS). Not the time the stop occurred but generally within 10 hours.\n",
    "\n",
    "\n",
    "Initial Call Type (Removing)\n",
    "Initial classification of the call as assigned by 911.\n",
    "\n",
    "Final Call Type(Removing)\n",
    "Final classification of the call as assigned by the primary officer closing the event.\n",
    "\n",
    "Call Type(Removing)\n",
    "How the call was received by the communication center.\n",
    "\n",
    "Officer Squad(Removing Due to nulls)\n",
    "Functional squad assignment (not budget) of the officer as reported by the Data Analytics Platform (DAP).\n",
    "\n",
    "Arrest Flag(Target Variable We want to see if an arrest was made\n",
    "Indicator of whether a \"physical arrest\" was made, of the subject, during the Terry Stop. Does not necessarily reflect a report of an arrest in the Records Management System (RMS).\n",
    "\n",
    "Frisk Flag\t\n",
    "Indicator of whether a \"frisk\" was conducted, by the officer, of the subject, during the Terry Stop.\n",
    "\n",
    "Precinct\t\n",
    "Precinct of the address associated with the underlying Computer Aided Dispatch (CAD) event. Not necessarily where the Terry Stop occurred.\n",
    "\n",
    "Sector\t\n",
    "Sector of the address associated with the underlying Computer Aided Dispatch (CAD) event. Not necessarily where the Terry Stop occurred.\n",
    "\n",
    "Beat\t\n",
    "Beat of the address associated with the underlying Computer Aided Dispatch (CAD) event. Not necessarily where the Terry Stop occurred.\n",
    "\n"
   ]
  },
  {
   "cell_type": "code",
   "execution_count": 2,
   "id": "bb936467",
   "metadata": {
    "scrolled": true
   },
   "outputs": [
    {
     "data": {
      "text/html": [
       "<div>\n",
       "<style scoped>\n",
       "    .dataframe tbody tr th:only-of-type {\n",
       "        vertical-align: middle;\n",
       "    }\n",
       "\n",
       "    .dataframe tbody tr th {\n",
       "        vertical-align: top;\n",
       "    }\n",
       "\n",
       "    .dataframe thead th {\n",
       "        text-align: right;\n",
       "    }\n",
       "</style>\n",
       "<table border=\"1\" class=\"dataframe\">\n",
       "  <thead>\n",
       "    <tr style=\"text-align: right;\">\n",
       "      <th></th>\n",
       "      <th>Subject Age Group</th>\n",
       "      <th>Subject ID</th>\n",
       "      <th>GO / SC Num</th>\n",
       "      <th>Terry Stop ID</th>\n",
       "      <th>Stop Resolution</th>\n",
       "      <th>Weapon Type</th>\n",
       "      <th>Officer ID</th>\n",
       "      <th>Officer YOB</th>\n",
       "      <th>Officer Gender</th>\n",
       "      <th>Officer Race</th>\n",
       "      <th>...</th>\n",
       "      <th>Reported Time</th>\n",
       "      <th>Initial Call Type</th>\n",
       "      <th>Final Call Type</th>\n",
       "      <th>Call Type</th>\n",
       "      <th>Officer Squad</th>\n",
       "      <th>Arrest Flag</th>\n",
       "      <th>Frisk Flag</th>\n",
       "      <th>Precinct</th>\n",
       "      <th>Sector</th>\n",
       "      <th>Beat</th>\n",
       "    </tr>\n",
       "  </thead>\n",
       "  <tbody>\n",
       "    <tr>\n",
       "      <th>0</th>\n",
       "      <td>-</td>\n",
       "      <td>-8</td>\n",
       "      <td>20220000063036</td>\n",
       "      <td>32023419019</td>\n",
       "      <td>Field Contact</td>\n",
       "      <td>-</td>\n",
       "      <td>6805</td>\n",
       "      <td>1973</td>\n",
       "      <td>M</td>\n",
       "      <td>White</td>\n",
       "      <td>...</td>\n",
       "      <td>09:34:02.0000000</td>\n",
       "      <td>SUSPICIOUS STOP - OFFICER INITIATED ONVIEW</td>\n",
       "      <td>--SUSPICIOUS CIRCUM. - SUSPICIOUS PERSON</td>\n",
       "      <td>ONVIEW</td>\n",
       "      <td>WEST PCT 1ST W - KQ/DM RELIEF</td>\n",
       "      <td>N</td>\n",
       "      <td>Y</td>\n",
       "      <td>West</td>\n",
       "      <td>K</td>\n",
       "      <td>K3</td>\n",
       "    </tr>\n",
       "    <tr>\n",
       "      <th>1</th>\n",
       "      <td>-</td>\n",
       "      <td>-8</td>\n",
       "      <td>20220000233868</td>\n",
       "      <td>35877423282</td>\n",
       "      <td>Field Contact</td>\n",
       "      <td>-</td>\n",
       "      <td>8881</td>\n",
       "      <td>1988</td>\n",
       "      <td>M</td>\n",
       "      <td>Asian</td>\n",
       "      <td>...</td>\n",
       "      <td>19:20:16.0000000</td>\n",
       "      <td>THREATS (INCLS IN-PERSON/BY PHONE/IN WRITING)</td>\n",
       "      <td>--DISTURBANCE - OTHER</td>\n",
       "      <td>911</td>\n",
       "      <td>TRAINING - FIELD TRAINING SQUAD</td>\n",
       "      <td>N</td>\n",
       "      <td>Y</td>\n",
       "      <td>South</td>\n",
       "      <td>O</td>\n",
       "      <td>O1</td>\n",
       "    </tr>\n",
       "    <tr>\n",
       "      <th>2</th>\n",
       "      <td>-</td>\n",
       "      <td>-1</td>\n",
       "      <td>20140000120677</td>\n",
       "      <td>92317</td>\n",
       "      <td>Arrest</td>\n",
       "      <td>None</td>\n",
       "      <td>7500</td>\n",
       "      <td>1984</td>\n",
       "      <td>M</td>\n",
       "      <td>Black or African American</td>\n",
       "      <td>...</td>\n",
       "      <td>11:32:00.0000000</td>\n",
       "      <td>-</td>\n",
       "      <td>-</td>\n",
       "      <td>-</td>\n",
       "      <td>SOUTH PCT 1ST W - ROBERT</td>\n",
       "      <td>N</td>\n",
       "      <td>N</td>\n",
       "      <td>South</td>\n",
       "      <td>O</td>\n",
       "      <td>O2</td>\n",
       "    </tr>\n",
       "    <tr>\n",
       "      <th>3</th>\n",
       "      <td>-</td>\n",
       "      <td>-1</td>\n",
       "      <td>20150000001463</td>\n",
       "      <td>28806</td>\n",
       "      <td>Field Contact</td>\n",
       "      <td>None</td>\n",
       "      <td>5670</td>\n",
       "      <td>1965</td>\n",
       "      <td>M</td>\n",
       "      <td>White</td>\n",
       "      <td>...</td>\n",
       "      <td>07:59:00.0000000</td>\n",
       "      <td>-</td>\n",
       "      <td>-</td>\n",
       "      <td>-</td>\n",
       "      <td>NaN</td>\n",
       "      <td>N</td>\n",
       "      <td>N</td>\n",
       "      <td>-</td>\n",
       "      <td>-</td>\n",
       "      <td>-</td>\n",
       "    </tr>\n",
       "    <tr>\n",
       "      <th>4</th>\n",
       "      <td>-</td>\n",
       "      <td>-1</td>\n",
       "      <td>20150000001516</td>\n",
       "      <td>29599</td>\n",
       "      <td>Field Contact</td>\n",
       "      <td>None</td>\n",
       "      <td>4844</td>\n",
       "      <td>1961</td>\n",
       "      <td>M</td>\n",
       "      <td>White</td>\n",
       "      <td>...</td>\n",
       "      <td>19:12:00.0000000</td>\n",
       "      <td>-</td>\n",
       "      <td>-</td>\n",
       "      <td>-</td>\n",
       "      <td>NaN</td>\n",
       "      <td>N</td>\n",
       "      <td>-</td>\n",
       "      <td>-</td>\n",
       "      <td>-</td>\n",
       "      <td>-</td>\n",
       "    </tr>\n",
       "    <tr>\n",
       "      <th>...</th>\n",
       "      <td>...</td>\n",
       "      <td>...</td>\n",
       "      <td>...</td>\n",
       "      <td>...</td>\n",
       "      <td>...</td>\n",
       "      <td>...</td>\n",
       "      <td>...</td>\n",
       "      <td>...</td>\n",
       "      <td>...</td>\n",
       "      <td>...</td>\n",
       "      <td>...</td>\n",
       "      <td>...</td>\n",
       "      <td>...</td>\n",
       "      <td>...</td>\n",
       "      <td>...</td>\n",
       "      <td>...</td>\n",
       "      <td>...</td>\n",
       "      <td>...</td>\n",
       "      <td>...</td>\n",
       "      <td>...</td>\n",
       "      <td>...</td>\n",
       "    </tr>\n",
       "    <tr>\n",
       "      <th>53678</th>\n",
       "      <td>56 and Above</td>\n",
       "      <td>35908211663</td>\n",
       "      <td>20220000238170</td>\n",
       "      <td>35908320953</td>\n",
       "      <td>Field Contact</td>\n",
       "      <td>-</td>\n",
       "      <td>8889</td>\n",
       "      <td>1977</td>\n",
       "      <td>M</td>\n",
       "      <td>White</td>\n",
       "      <td>...</td>\n",
       "      <td>04:11:19.0000000</td>\n",
       "      <td>DISTURBANCE, MISCELLANEOUS/OTHER</td>\n",
       "      <td>DISTURBANCE, MISCELLANEOUS/OTHER</td>\n",
       "      <td>911</td>\n",
       "      <td>TRAINING - FIELD TRAINING SQUAD</td>\n",
       "      <td>N</td>\n",
       "      <td>N</td>\n",
       "      <td>West</td>\n",
       "      <td>Q</td>\n",
       "      <td>Q3</td>\n",
       "    </tr>\n",
       "    <tr>\n",
       "      <th>53679</th>\n",
       "      <td>56 and Above</td>\n",
       "      <td>36244081163</td>\n",
       "      <td>20220000243193</td>\n",
       "      <td>36244016178</td>\n",
       "      <td>Field Contact</td>\n",
       "      <td>-</td>\n",
       "      <td>8857</td>\n",
       "      <td>1996</td>\n",
       "      <td>M</td>\n",
       "      <td>White</td>\n",
       "      <td>...</td>\n",
       "      <td>01:53:14.0000000</td>\n",
       "      <td>-</td>\n",
       "      <td>-</td>\n",
       "      <td>-</td>\n",
       "      <td>WEST PCT 2ND W - D/M RELIEF</td>\n",
       "      <td>N</td>\n",
       "      <td>N</td>\n",
       "      <td>East</td>\n",
       "      <td>E</td>\n",
       "      <td>E3</td>\n",
       "    </tr>\n",
       "    <tr>\n",
       "      <th>53680</th>\n",
       "      <td>56 and Above</td>\n",
       "      <td>36540999080</td>\n",
       "      <td>20220000250573</td>\n",
       "      <td>36541078424</td>\n",
       "      <td>Field Contact</td>\n",
       "      <td>-</td>\n",
       "      <td>6805</td>\n",
       "      <td>1973</td>\n",
       "      <td>M</td>\n",
       "      <td>White</td>\n",
       "      <td>...</td>\n",
       "      <td>12:57:21.0000000</td>\n",
       "      <td>SUSPICIOUS PERSON, VEHICLE OR INCIDENT</td>\n",
       "      <td>--MISCHIEF OR NUISANCE - GENERAL</td>\n",
       "      <td>ONVIEW</td>\n",
       "      <td>WEST PCT 1ST W - KQ/DM RELIEF</td>\n",
       "      <td>N</td>\n",
       "      <td>N</td>\n",
       "      <td>West</td>\n",
       "      <td>K</td>\n",
       "      <td>K3</td>\n",
       "    </tr>\n",
       "    <tr>\n",
       "      <th>53681</th>\n",
       "      <td>56 and Above</td>\n",
       "      <td>36545542648</td>\n",
       "      <td>20220000251229</td>\n",
       "      <td>36545507606</td>\n",
       "      <td>Field Contact</td>\n",
       "      <td>-</td>\n",
       "      <td>7773</td>\n",
       "      <td>1978</td>\n",
       "      <td>M</td>\n",
       "      <td>White</td>\n",
       "      <td>...</td>\n",
       "      <td>02:33:21.0000000</td>\n",
       "      <td>FOUND - PERSON</td>\n",
       "      <td>FOUND - PERSON</td>\n",
       "      <td>911</td>\n",
       "      <td>NORTH PCT 3RD W - LINCOLN</td>\n",
       "      <td>N</td>\n",
       "      <td>N</td>\n",
       "      <td>North</td>\n",
       "      <td>J</td>\n",
       "      <td>J3</td>\n",
       "    </tr>\n",
       "    <tr>\n",
       "      <th>53682</th>\n",
       "      <td>56 and Above</td>\n",
       "      <td>37030489079</td>\n",
       "      <td>20220000261253</td>\n",
       "      <td>37030461857</td>\n",
       "      <td>Field Contact</td>\n",
       "      <td>-</td>\n",
       "      <td>8890</td>\n",
       "      <td>1995</td>\n",
       "      <td>M</td>\n",
       "      <td>White</td>\n",
       "      <td>...</td>\n",
       "      <td>23:21:54.0000000</td>\n",
       "      <td>TRESPASS</td>\n",
       "      <td>TRESPASS</td>\n",
       "      <td>911</td>\n",
       "      <td>TRAINING - FIELD TRAINING SQUAD</td>\n",
       "      <td>N</td>\n",
       "      <td>N</td>\n",
       "      <td>West</td>\n",
       "      <td>M</td>\n",
       "      <td>M1</td>\n",
       "    </tr>\n",
       "  </tbody>\n",
       "</table>\n",
       "<p>53683 rows × 23 columns</p>\n",
       "</div>"
      ],
      "text/plain": [
       "      Subject Age Group   Subject ID     GO / SC Num  Terry Stop ID  \\\n",
       "0                     -           -8  20220000063036    32023419019   \n",
       "1                     -           -8  20220000233868    35877423282   \n",
       "2                     -           -1  20140000120677          92317   \n",
       "3                     -           -1  20150000001463          28806   \n",
       "4                     -           -1  20150000001516          29599   \n",
       "...                 ...          ...             ...            ...   \n",
       "53678      56 and Above  35908211663  20220000238170    35908320953   \n",
       "53679      56 and Above  36244081163  20220000243193    36244016178   \n",
       "53680      56 and Above  36540999080  20220000250573    36541078424   \n",
       "53681      56 and Above  36545542648  20220000251229    36545507606   \n",
       "53682      56 and Above  37030489079  20220000261253    37030461857   \n",
       "\n",
       "      Stop Resolution Weapon Type Officer ID  Officer YOB Officer Gender  \\\n",
       "0       Field Contact           -       6805         1973              M   \n",
       "1       Field Contact           -       8881         1988              M   \n",
       "2              Arrest        None       7500         1984              M   \n",
       "3       Field Contact        None       5670         1965              M   \n",
       "4       Field Contact        None       4844         1961              M   \n",
       "...               ...         ...        ...          ...            ...   \n",
       "53678   Field Contact           -       8889         1977              M   \n",
       "53679   Field Contact           -       8857         1996              M   \n",
       "53680   Field Contact           -       6805         1973              M   \n",
       "53681   Field Contact           -       7773         1978              M   \n",
       "53682   Field Contact           -       8890         1995              M   \n",
       "\n",
       "                    Officer Race  ...     Reported Time  \\\n",
       "0                          White  ...  09:34:02.0000000   \n",
       "1                          Asian  ...  19:20:16.0000000   \n",
       "2      Black or African American  ...  11:32:00.0000000   \n",
       "3                          White  ...  07:59:00.0000000   \n",
       "4                          White  ...  19:12:00.0000000   \n",
       "...                          ...  ...               ...   \n",
       "53678                      White  ...  04:11:19.0000000   \n",
       "53679                      White  ...  01:53:14.0000000   \n",
       "53680                      White  ...  12:57:21.0000000   \n",
       "53681                      White  ...  02:33:21.0000000   \n",
       "53682                      White  ...  23:21:54.0000000   \n",
       "\n",
       "                                   Initial Call Type  \\\n",
       "0         SUSPICIOUS STOP - OFFICER INITIATED ONVIEW   \n",
       "1      THREATS (INCLS IN-PERSON/BY PHONE/IN WRITING)   \n",
       "2                                                  -   \n",
       "3                                                  -   \n",
       "4                                                  -   \n",
       "...                                              ...   \n",
       "53678               DISTURBANCE, MISCELLANEOUS/OTHER   \n",
       "53679                                              -   \n",
       "53680         SUSPICIOUS PERSON, VEHICLE OR INCIDENT   \n",
       "53681                                 FOUND - PERSON   \n",
       "53682                                       TRESPASS   \n",
       "\n",
       "                                Final Call Type Call Type  \\\n",
       "0      --SUSPICIOUS CIRCUM. - SUSPICIOUS PERSON    ONVIEW   \n",
       "1                         --DISTURBANCE - OTHER       911   \n",
       "2                                             -         -   \n",
       "3                                             -         -   \n",
       "4                                             -         -   \n",
       "...                                         ...       ...   \n",
       "53678          DISTURBANCE, MISCELLANEOUS/OTHER       911   \n",
       "53679                                         -         -   \n",
       "53680          --MISCHIEF OR NUISANCE - GENERAL    ONVIEW   \n",
       "53681                            FOUND - PERSON       911   \n",
       "53682                                  TRESPASS       911   \n",
       "\n",
       "                         Officer Squad Arrest Flag Frisk Flag Precinct Sector  \\\n",
       "0        WEST PCT 1ST W - KQ/DM RELIEF           N          Y     West      K   \n",
       "1      TRAINING - FIELD TRAINING SQUAD           N          Y    South      O   \n",
       "2             SOUTH PCT 1ST W - ROBERT           N          N    South      O   \n",
       "3                                  NaN           N          N        -      -   \n",
       "4                                  NaN           N          -        -      -   \n",
       "...                                ...         ...        ...      ...    ...   \n",
       "53678  TRAINING - FIELD TRAINING SQUAD           N          N     West      Q   \n",
       "53679      WEST PCT 2ND W - D/M RELIEF           N          N     East      E   \n",
       "53680    WEST PCT 1ST W - KQ/DM RELIEF           N          N     West      K   \n",
       "53681        NORTH PCT 3RD W - LINCOLN           N          N    North      J   \n",
       "53682  TRAINING - FIELD TRAINING SQUAD           N          N     West      M   \n",
       "\n",
       "      Beat  \n",
       "0       K3  \n",
       "1       O1  \n",
       "2       O2  \n",
       "3        -  \n",
       "4        -  \n",
       "...    ...  \n",
       "53678   Q3  \n",
       "53679   E3  \n",
       "53680   K3  \n",
       "53681   J3  \n",
       "53682   M1  \n",
       "\n",
       "[53683 rows x 23 columns]"
      ]
     },
     "execution_count": 2,
     "metadata": {},
     "output_type": "execute_result"
    }
   ],
   "source": [
    "terry"
   ]
  },
  {
   "cell_type": "code",
   "execution_count": 3,
   "id": "de57d470",
   "metadata": {},
   "outputs": [
    {
     "name": "stdout",
     "output_type": "stream",
     "text": [
      "<class 'pandas.core.frame.DataFrame'>\n",
      "RangeIndex: 53683 entries, 0 to 53682\n",
      "Data columns (total 23 columns):\n",
      " #   Column                    Non-Null Count  Dtype \n",
      "---  ------                    --------------  ----- \n",
      " 0   Subject Age Group         53683 non-null  object\n",
      " 1   Subject ID                53683 non-null  int64 \n",
      " 2   GO / SC Num               53683 non-null  int64 \n",
      " 3   Terry Stop ID             53683 non-null  int64 \n",
      " 4   Stop Resolution           53683 non-null  object\n",
      " 5   Weapon Type               53683 non-null  object\n",
      " 6   Officer ID                53683 non-null  object\n",
      " 7   Officer YOB               53683 non-null  int64 \n",
      " 8   Officer Gender            53683 non-null  object\n",
      " 9   Officer Race              53683 non-null  object\n",
      " 10  Subject Perceived Race    53683 non-null  object\n",
      " 11  Subject Perceived Gender  53683 non-null  object\n",
      " 12  Reported Date             53683 non-null  object\n",
      " 13  Reported Time             53683 non-null  object\n",
      " 14  Initial Call Type         53683 non-null  object\n",
      " 15  Final Call Type           53683 non-null  object\n",
      " 16  Call Type                 53683 non-null  object\n",
      " 17  Officer Squad             53194 non-null  object\n",
      " 18  Arrest Flag               53683 non-null  object\n",
      " 19  Frisk Flag                53683 non-null  object\n",
      " 20  Precinct                  53683 non-null  object\n",
      " 21  Sector                    53683 non-null  object\n",
      " 22  Beat                      53683 non-null  object\n",
      "dtypes: int64(4), object(19)\n",
      "memory usage: 9.4+ MB\n"
     ]
    }
   ],
   "source": [
    "terry.info()"
   ]
  },
  {
   "cell_type": "code",
   "execution_count": 4,
   "id": "603eee6a",
   "metadata": {},
   "outputs": [
    {
     "data": {
      "text/html": [
       "<div>\n",
       "<style scoped>\n",
       "    .dataframe tbody tr th:only-of-type {\n",
       "        vertical-align: middle;\n",
       "    }\n",
       "\n",
       "    .dataframe tbody tr th {\n",
       "        vertical-align: top;\n",
       "    }\n",
       "\n",
       "    .dataframe thead th {\n",
       "        text-align: right;\n",
       "    }\n",
       "</style>\n",
       "<table border=\"1\" class=\"dataframe\">\n",
       "  <thead>\n",
       "    <tr style=\"text-align: right;\">\n",
       "      <th></th>\n",
       "      <th>Subject ID</th>\n",
       "      <th>GO / SC Num</th>\n",
       "      <th>Terry Stop ID</th>\n",
       "      <th>Officer YOB</th>\n",
       "    </tr>\n",
       "  </thead>\n",
       "  <tbody>\n",
       "    <tr>\n",
       "      <th>count</th>\n",
       "      <td>5.368300e+04</td>\n",
       "      <td>5.368300e+04</td>\n",
       "      <td>5.368300e+04</td>\n",
       "      <td>53683.000000</td>\n",
       "    </tr>\n",
       "    <tr>\n",
       "      <th>mean</th>\n",
       "      <td>4.350794e+09</td>\n",
       "      <td>2.018042e+13</td>\n",
       "      <td>6.948296e+09</td>\n",
       "      <td>1983.460574</td>\n",
       "    </tr>\n",
       "    <tr>\n",
       "      <th>std</th>\n",
       "      <td>7.576428e+09</td>\n",
       "      <td>8.958489e+10</td>\n",
       "      <td>1.083998e+10</td>\n",
       "      <td>9.311691</td>\n",
       "    </tr>\n",
       "    <tr>\n",
       "      <th>min</th>\n",
       "      <td>-8.000000e+00</td>\n",
       "      <td>-1.000000e+00</td>\n",
       "      <td>2.802000e+04</td>\n",
       "      <td>1900.000000</td>\n",
       "    </tr>\n",
       "    <tr>\n",
       "      <th>25%</th>\n",
       "      <td>-1.000000e+00</td>\n",
       "      <td>2.016000e+13</td>\n",
       "      <td>2.076335e+05</td>\n",
       "      <td>1979.000000</td>\n",
       "    </tr>\n",
       "    <tr>\n",
       "      <th>50%</th>\n",
       "      <td>-1.000000e+00</td>\n",
       "      <td>2.018000e+13</td>\n",
       "      <td>4.546930e+05</td>\n",
       "      <td>1986.000000</td>\n",
       "    </tr>\n",
       "    <tr>\n",
       "      <th>75%</th>\n",
       "      <td>7.731658e+09</td>\n",
       "      <td>2.020000e+13</td>\n",
       "      <td>1.262334e+10</td>\n",
       "      <td>1990.000000</td>\n",
       "    </tr>\n",
       "    <tr>\n",
       "      <th>max</th>\n",
       "      <td>3.758621e+10</td>\n",
       "      <td>2.022000e+13</td>\n",
       "      <td>3.774799e+10</td>\n",
       "      <td>2000.000000</td>\n",
       "    </tr>\n",
       "  </tbody>\n",
       "</table>\n",
       "</div>"
      ],
      "text/plain": [
       "         Subject ID   GO / SC Num  Terry Stop ID   Officer YOB\n",
       "count  5.368300e+04  5.368300e+04   5.368300e+04  53683.000000\n",
       "mean   4.350794e+09  2.018042e+13   6.948296e+09   1983.460574\n",
       "std    7.576428e+09  8.958489e+10   1.083998e+10      9.311691\n",
       "min   -8.000000e+00 -1.000000e+00   2.802000e+04   1900.000000\n",
       "25%   -1.000000e+00  2.016000e+13   2.076335e+05   1979.000000\n",
       "50%   -1.000000e+00  2.018000e+13   4.546930e+05   1986.000000\n",
       "75%    7.731658e+09  2.020000e+13   1.262334e+10   1990.000000\n",
       "max    3.758621e+10  2.022000e+13   3.774799e+10   2000.000000"
      ]
     },
     "execution_count": 4,
     "metadata": {},
     "output_type": "execute_result"
    }
   ],
   "source": [
    "terry.describe()"
   ]
  },
  {
   "cell_type": "code",
   "execution_count": 5,
   "id": "03103bea",
   "metadata": {},
   "outputs": [],
   "source": [
    "terry.isna().sum() \n",
    "terry.drop(columns ='Officer Squad', inplace = True)\n",
    "#terry.isna().sum()"
   ]
  },
  {
   "cell_type": "code",
   "execution_count": 6,
   "id": "f05ad64a",
   "metadata": {
    "scrolled": true
   },
   "outputs": [
    {
     "data": {
      "text/plain": [
       "Text(0.5, 1.0, 'Gender Balance')"
      ]
     },
     "execution_count": 6,
     "metadata": {},
     "output_type": "execute_result"
    },
    {
     "data": {
      "image/png": "[encoded data removed]",
      "text/plain": [
       "<Figure size 1080x1080 with 1 Axes>"
      ]
     },
     "metadata": {},
     "output_type": "display_data"
    }
   ],
   "source": [
    "#seeing What gender gets pulled over the most \n",
    "plt.figure(figsize=(15,15))\n",
    "terry['Subject Perceived Gender'].value_counts(normalize=True).plot.bar()\n",
    "plt.title('Gender Balance')"
   ]
  },
  {
   "cell_type": "code",
   "execution_count": 7,
   "id": "b731f618",
   "metadata": {},
   "outputs": [
    {
     "data": {
      "text/plain": [
       "<AxesSubplot:>"
      ]
     },
     "execution_count": 7,
     "metadata": {},
     "output_type": "execute_result"
    },
    {
     "data": {
      "image/png": "[encoded data removed]",
      "text/plain": [
       "<Figure size 576x396 with 1 Axes>"
      ]
     },
     "metadata": {},
     "output_type": "display_data"
    }
   ],
   "source": [
    "terry['Stop Resolution'].value_counts(normalize = True).plot()"
   ]
  },
  {
   "cell_type": "code",
   "execution_count": 8,
   "id": "46053474",
   "metadata": {
    "scrolled": true
   },
   "outputs": [
    {
     "data": {
      "text/html": [
       "<div>\n",
       "<style scoped>\n",
       "    .dataframe tbody tr th:only-of-type {\n",
       "        vertical-align: middle;\n",
       "    }\n",
       "\n",
       "    .dataframe tbody tr th {\n",
       "        vertical-align: top;\n",
       "    }\n",
       "\n",
       "    .dataframe thead th {\n",
       "        text-align: right;\n",
       "    }\n",
       "</style>\n",
       "<table border=\"1\" class=\"dataframe\">\n",
       "  <thead>\n",
       "    <tr style=\"text-align: right;\">\n",
       "      <th></th>\n",
       "      <th>Subject Age Group</th>\n",
       "      <th>Subject ID</th>\n",
       "      <th>GO / SC Num</th>\n",
       "      <th>Terry Stop ID</th>\n",
       "      <th>Weapon Type</th>\n",
       "      <th>Officer ID</th>\n",
       "      <th>Officer YOB</th>\n",
       "      <th>Officer Gender</th>\n",
       "      <th>Officer Race</th>\n",
       "      <th>Subject Perceived Race</th>\n",
       "      <th>...</th>\n",
       "      <th>Reported Date</th>\n",
       "      <th>Reported Time</th>\n",
       "      <th>Initial Call Type</th>\n",
       "      <th>Final Call Type</th>\n",
       "      <th>Call Type</th>\n",
       "      <th>Arrest Flag</th>\n",
       "      <th>Frisk Flag</th>\n",
       "      <th>Precinct</th>\n",
       "      <th>Sector</th>\n",
       "      <th>Beat</th>\n",
       "    </tr>\n",
       "    <tr>\n",
       "      <th>Stop Resolution</th>\n",
       "      <th></th>\n",
       "      <th></th>\n",
       "      <th></th>\n",
       "      <th></th>\n",
       "      <th></th>\n",
       "      <th></th>\n",
       "      <th></th>\n",
       "      <th></th>\n",
       "      <th></th>\n",
       "      <th></th>\n",
       "      <th></th>\n",
       "      <th></th>\n",
       "      <th></th>\n",
       "      <th></th>\n",
       "      <th></th>\n",
       "      <th></th>\n",
       "      <th></th>\n",
       "      <th></th>\n",
       "      <th></th>\n",
       "      <th></th>\n",
       "      <th></th>\n",
       "    </tr>\n",
       "  </thead>\n",
       "  <tbody>\n",
       "    <tr>\n",
       "      <th>Arrest</th>\n",
       "      <td>8210</td>\n",
       "      <td>8210</td>\n",
       "      <td>8210</td>\n",
       "      <td>8210</td>\n",
       "      <td>8210</td>\n",
       "      <td>8210</td>\n",
       "      <td>8210</td>\n",
       "      <td>8210</td>\n",
       "      <td>8210</td>\n",
       "      <td>8210</td>\n",
       "      <td>...</td>\n",
       "      <td>8210</td>\n",
       "      <td>8210</td>\n",
       "      <td>8210</td>\n",
       "      <td>8210</td>\n",
       "      <td>8210</td>\n",
       "      <td>8210</td>\n",
       "      <td>8210</td>\n",
       "      <td>8210</td>\n",
       "      <td>8210</td>\n",
       "      <td>8210</td>\n",
       "    </tr>\n",
       "    <tr>\n",
       "      <th>Citation / Infraction</th>\n",
       "      <td>271</td>\n",
       "      <td>271</td>\n",
       "      <td>271</td>\n",
       "      <td>271</td>\n",
       "      <td>271</td>\n",
       "      <td>271</td>\n",
       "      <td>271</td>\n",
       "      <td>271</td>\n",
       "      <td>271</td>\n",
       "      <td>271</td>\n",
       "      <td>...</td>\n",
       "      <td>271</td>\n",
       "      <td>271</td>\n",
       "      <td>271</td>\n",
       "      <td>271</td>\n",
       "      <td>271</td>\n",
       "      <td>271</td>\n",
       "      <td>271</td>\n",
       "      <td>271</td>\n",
       "      <td>271</td>\n",
       "      <td>271</td>\n",
       "    </tr>\n",
       "    <tr>\n",
       "      <th>Field Contact</th>\n",
       "      <td>31279</td>\n",
       "      <td>31279</td>\n",
       "      <td>31279</td>\n",
       "      <td>31279</td>\n",
       "      <td>31279</td>\n",
       "      <td>31279</td>\n",
       "      <td>31279</td>\n",
       "      <td>31279</td>\n",
       "      <td>31279</td>\n",
       "      <td>31279</td>\n",
       "      <td>...</td>\n",
       "      <td>31279</td>\n",
       "      <td>31279</td>\n",
       "      <td>31279</td>\n",
       "      <td>31279</td>\n",
       "      <td>31279</td>\n",
       "      <td>31279</td>\n",
       "      <td>31279</td>\n",
       "      <td>31279</td>\n",
       "      <td>31279</td>\n",
       "      <td>31279</td>\n",
       "    </tr>\n",
       "    <tr>\n",
       "      <th>Offense Report</th>\n",
       "      <td>13197</td>\n",
       "      <td>13197</td>\n",
       "      <td>13197</td>\n",
       "      <td>13197</td>\n",
       "      <td>13197</td>\n",
       "      <td>13197</td>\n",
       "      <td>13197</td>\n",
       "      <td>13197</td>\n",
       "      <td>13197</td>\n",
       "      <td>13197</td>\n",
       "      <td>...</td>\n",
       "      <td>13197</td>\n",
       "      <td>13197</td>\n",
       "      <td>13197</td>\n",
       "      <td>13197</td>\n",
       "      <td>13197</td>\n",
       "      <td>13197</td>\n",
       "      <td>13197</td>\n",
       "      <td>13197</td>\n",
       "      <td>13197</td>\n",
       "      <td>13197</td>\n",
       "    </tr>\n",
       "    <tr>\n",
       "      <th>Referred for Prosecution</th>\n",
       "      <td>726</td>\n",
       "      <td>726</td>\n",
       "      <td>726</td>\n",
       "      <td>726</td>\n",
       "      <td>726</td>\n",
       "      <td>726</td>\n",
       "      <td>726</td>\n",
       "      <td>726</td>\n",
       "      <td>726</td>\n",
       "      <td>726</td>\n",
       "      <td>...</td>\n",
       "      <td>726</td>\n",
       "      <td>726</td>\n",
       "      <td>726</td>\n",
       "      <td>726</td>\n",
       "      <td>726</td>\n",
       "      <td>726</td>\n",
       "      <td>726</td>\n",
       "      <td>726</td>\n",
       "      <td>726</td>\n",
       "      <td>726</td>\n",
       "    </tr>\n",
       "  </tbody>\n",
       "</table>\n",
       "<p>5 rows × 21 columns</p>\n",
       "</div>"
      ],
      "text/plain": [
       "                          Subject Age Group  Subject ID  GO / SC Num  \\\n",
       "Stop Resolution                                                        \n",
       "Arrest                                 8210        8210         8210   \n",
       "Citation / Infraction                   271         271          271   \n",
       "Field Contact                         31279       31279        31279   \n",
       "Offense Report                        13197       13197        13197   \n",
       "Referred for Prosecution                726         726          726   \n",
       "\n",
       "                          Terry Stop ID  Weapon Type  Officer ID  Officer YOB  \\\n",
       "Stop Resolution                                                                 \n",
       "Arrest                             8210         8210        8210         8210   \n",
       "Citation / Infraction               271          271         271          271   \n",
       "Field Contact                     31279        31279       31279        31279   \n",
       "Offense Report                    13197        13197       13197        13197   \n",
       "Referred for Prosecution            726          726         726          726   \n",
       "\n",
       "                          Officer Gender  Officer Race  \\\n",
       "Stop Resolution                                          \n",
       "Arrest                              8210          8210   \n",
       "Citation / Infraction                271           271   \n",
       "Field Contact                      31279         31279   \n",
       "Offense Report                     13197         13197   \n",
       "Referred for Prosecution             726           726   \n",
       "\n",
       "                          Subject Perceived Race  ...  Reported Date  \\\n",
       "Stop Resolution                                   ...                  \n",
       "Arrest                                      8210  ...           8210   \n",
       "Citation / Infraction                        271  ...            271   \n",
       "Field Contact                              31279  ...          31279   \n",
       "Offense Report                             13197  ...          13197   \n",
       "Referred for Prosecution                     726  ...            726   \n",
       "\n",
       "                          Reported Time  Initial Call Type  Final Call Type  \\\n",
       "Stop Resolution                                                               \n",
       "Arrest                             8210               8210             8210   \n",
       "Citation / Infraction               271                271              271   \n",
       "Field Contact                     31279              31279            31279   \n",
       "Offense Report                    13197              13197            13197   \n",
       "Referred for Prosecution            726                726              726   \n",
       "\n",
       "                          Call Type  Arrest Flag  Frisk Flag  Precinct  \\\n",
       "Stop Resolution                                                          \n",
       "Arrest                         8210         8210        8210      8210   \n",
       "Citation / Infraction           271          271         271       271   \n",
       "Field Contact                 31279        31279       31279     31279   \n",
       "Offense Report                13197        13197       13197     13197   \n",
       "Referred for Prosecution        726          726         726       726   \n",
       "\n",
       "                          Sector   Beat  \n",
       "Stop Resolution                          \n",
       "Arrest                      8210   8210  \n",
       "Citation / Infraction        271    271  \n",
       "Field Contact              31279  31279  \n",
       "Offense Report             13197  13197  \n",
       "Referred for Prosecution     726    726  \n",
       "\n",
       "[5 rows x 21 columns]"
      ]
     },
     "execution_count": 8,
     "metadata": {},
     "output_type": "execute_result"
    }
   ],
   "source": [
    " terry.groupby('Stop Resolution').count()"
   ]
  },
  {
   "cell_type": "code",
   "execution_count": 9,
   "id": "088c003b",
   "metadata": {},
   "outputs": [
    {
     "data": {
      "text/plain": [
       "Subject Age Group  Stop Resolution         \n",
       "-                  Arrest                        182\n",
       "                   Citation / Infraction           5\n",
       "                   Field Contact                1086\n",
       "                   Offense Report                544\n",
       "                   Referred for Prosecution        9\n",
       "1 - 17             Arrest                        359\n",
       "                   Citation / Infraction           5\n",
       "                   Field Contact                 820\n",
       "                   Offense Report                841\n",
       "                   Referred for Prosecution       55\n",
       "18 - 25            Arrest                       1765\n",
       "                   Citation / Infraction          68\n",
       "                   Field Contact                5592\n",
       "                   Offense Report               2910\n",
       "                   Referred for Prosecution      181\n",
       "26 - 35            Arrest                       2937\n",
       "                   Citation / Infraction          70\n",
       "                   Field Contact               10436\n",
       "                   Offense Report               4274\n",
       "                   Referred for Prosecution      226\n",
       "36 - 45            Arrest                       1700\n",
       "                   Citation / Infraction          54\n",
       "                   Field Contact                7270\n",
       "                   Offense Report               2474\n",
       "                   Referred for Prosecution      142\n",
       "46 - 55            Arrest                        928\n",
       "                   Citation / Infraction          47\n",
       "                   Field Contact                4242\n",
       "                   Offense Report               1595\n",
       "                   Referred for Prosecution       82\n",
       "56 and Above       Arrest                        339\n",
       "                   Citation / Infraction          22\n",
       "                   Field Contact                1833\n",
       "                   Offense Report                559\n",
       "                   Referred for Prosecution       31\n",
       "Name: Stop Resolution, dtype: int64"
      ]
     },
     "execution_count": 9,
     "metadata": {},
     "output_type": "execute_result"
    }
   ],
   "source": [
    "#This tells me the amount of stop resolutions per age group\n",
    "\n",
    "stop_count_per_age_group = terry.groupby(['Subject Age Group', 'Stop Resolution'])['Stop Resolution'].count()\n",
    "stop_count_per_age_group"
   ]
  },
  {
   "cell_type": "code",
   "execution_count": 10,
   "id": "30dc0da2",
   "metadata": {},
   "outputs": [
    {
     "data": {
      "text/plain": [
       "<matplotlib.legend.Legend at 0x18fa0b93b20>"
      ]
     },
     "execution_count": 10,
     "metadata": {},
     "output_type": "execute_result"
    },
    {
     "data": {
      "image/png": "[encoded data removed]",
      "text/plain": [
       "<Figure size 1080x1080 with 1 Axes>"
      ]
     },
     "metadata": {},
     "output_type": "display_data"
    }
   ],
   "source": [
    "#Want to see the stop resolutions per age group. We want to see the trend.\n",
    "\n",
    "plt.figure(figsize=(15,15))\n",
    "plt.title('Stop Resolution Per Age Group')\n",
    "stop_count_per_age_group['-'].sort_values(ascending= False).plot(color = 'grey', label='uknown')\n",
    "stop_count_per_age_group['1 - 17'].sort_values(ascending = False).plot(color = 'blue', label = '1-17')\n",
    "stop_count_per_age_group['18 - 25'].sort_values(ascending = False).plot(color= 'red', label = '18 - 25')\n",
    "stop_count_per_age_group['26 - 35'].sort_values(ascending = False).plot(color = 'yellow', label = '26 - 35')\n",
    "stop_count_per_age_group['36 - 45'].sort_values(ascending = False).plot(color = 'orange', label = '36 - 45')\n",
    "stop_count_per_age_group['46 - 55'].sort_values(ascending = False).plot(color = 'black', label = '46 - 55')\n",
    "stop_count_per_age_group['56 and Above'].sort_values(ascending = False).plot(color = 'green', label = '56 and Above')\n",
    "plt.legend(loc=1, prop={'size': 20})"
   ]
  },
  {
   "cell_type": "code",
   "execution_count": 11,
   "id": "8e799c45",
   "metadata": {},
   "outputs": [
    {
     "data": {
      "text/plain": [
       "<AxesSubplot:>"
      ]
     },
     "execution_count": 11,
     "metadata": {},
     "output_type": "execute_result"
    },
    {
     "data": {
      "image/png": "[encoded data removed]",
      "text/plain": [
       "<Figure size 1080x1080 with 1 Axes>"
      ]
     },
     "metadata": {},
     "output_type": "display_data"
    }
   ],
   "source": [
    "#The Precieved Race what is the percentage\n",
    "plt.figure(figsize=(15,15))\n",
    "plt.suptitle('Race Per Stop')\n",
    "terry['Subject Perceived Race'].value_counts(normalize = True).plot.bar()"
   ]
  },
  {
   "cell_type": "code",
   "execution_count": 12,
   "id": "6106eac7",
   "metadata": {},
   "outputs": [],
   "source": [
    "Officer_Flag = terry.groupby(['Officer ID', 'Stop Resolution'])['Stop Resolution'].count()"
   ]
  },
  {
   "cell_type": "code",
   "execution_count": 13,
   "id": "fbd209a4",
   "metadata": {},
   "outputs": [
    {
     "data": {
      "text/plain": [
       "<AxesSubplot:title={'center':'What happens when you are stopped'}>"
      ]
     },
     "execution_count": 13,
     "metadata": {},
     "output_type": "execute_result"
    },
    {
     "data": {
      "image/png": "[encoded data removed]",
      "text/plain": [
       "<Figure size 1080x1080 with 1 Axes>"
      ]
     },
     "metadata": {},
     "output_type": "display_data"
    }
   ],
   "source": [
    "plt.figure(figsize=(15,15))\n",
    "plt.title('What happens when you are stopped')\n",
    "terry['Stop Resolution'].value_counts(normalize = True).plot.bar()"
   ]
  },
  {
   "cell_type": "code",
   "execution_count": 14,
   "id": "47d415dc",
   "metadata": {},
   "outputs": [],
   "source": [
    "officers_who_arrest = (terry['Officer ID'].where(terry['Stop Resolution'] == 'Arrest')).value_counts()"
   ]
  },
  {
   "cell_type": "code",
   "execution_count": 15,
   "id": "087d01f8",
   "metadata": {},
   "outputs": [
    {
     "data": {
      "text/plain": [
       "<AxesSubplot:>"
      ]
     },
     "execution_count": 15,
     "metadata": {},
     "output_type": "execute_result"
    },
    {
     "data": {
      "image/png": "[encoded data removed]",
      "text/plain": [
       "<Figure size 576x396 with 1 Axes>"
      ]
     },
     "metadata": {},
     "output_type": "display_data"
    }
   ],
   "source": [
    "officers_who_arrest.head(20).plot.bar()"
   ]
  },
  {
   "cell_type": "markdown",
   "id": "01b679d7",
   "metadata": {},
   "source": [
    "## Feature Engineering"
   ]
  },
  {
   "cell_type": "code",
   "execution_count": 16,
   "id": "1abf8b8d",
   "metadata": {},
   "outputs": [],
   "source": [
    "#The arrests need to be in numerical format for binary classification so I will be Mapping it.and adding a new column \n",
    "arrest_map = {'Citation / Infraction''Field Contact''Offense Report''Offense Report''Referred for Prosecution': 0, 'Arrest': 1 }"
   ]
  },
  {
   "cell_type": "code",
   "execution_count": 17,
   "id": "5d914d62",
   "metadata": {},
   "outputs": [],
   "source": [
    "terry['Arrest'] = terry['Stop Resolution'].map(arrest_map)"
   ]
  },
  {
   "cell_type": "code",
   "execution_count": 18,
   "id": "6e7fb347",
   "metadata": {},
   "outputs": [
    {
     "data": {
      "text/plain": [
       "0        0\n",
       "1        0\n",
       "2        1\n",
       "3        0\n",
       "4        0\n",
       "        ..\n",
       "53678    0\n",
       "53679    0\n",
       "53680    0\n",
       "53681    0\n",
       "53682    0\n",
       "Name: Arrest, Length: 53683, dtype: int32"
      ]
     },
     "execution_count": 18,
     "metadata": {},
     "output_type": "execute_result"
    }
   ],
   "source": [
    "terry['Arrest'].fillna(0, inplace = True)\n",
    "terry['Arrest'].astype(int)"
   ]
  },
  {
   "cell_type": "code",
   "execution_count": 19,
   "id": "0ee483f4",
   "metadata": {},
   "outputs": [],
   "source": [
    "terry['Officer ID'].replace(to_replace = '-', value = 0, inplace = True)\n",
    "terry.drop(terry[terry['Officer ID'] == 'IV70'].index, inplace = True)\n",
    "terry.drop(terry[terry['Officer ID'] == 'CD911'].index, inplace = True)"
   ]
  },
  {
   "cell_type": "code",
   "execution_count": 20,
   "id": "7f48d3ca",
   "metadata": {},
   "outputs": [],
   "source": [
    "terry['Officer ID'] = terry['Officer ID'].astype('int64')                                     "
   ]
  },
  {
   "cell_type": "code",
   "execution_count": 21,
   "id": "5368b8ce",
   "metadata": {},
   "outputs": [
    {
     "data": {
      "text/html": [
       "<div>\n",
       "<style scoped>\n",
       "    .dataframe tbody tr th:only-of-type {\n",
       "        vertical-align: middle;\n",
       "    }\n",
       "\n",
       "    .dataframe tbody tr th {\n",
       "        vertical-align: top;\n",
       "    }\n",
       "\n",
       "    .dataframe thead th {\n",
       "        text-align: right;\n",
       "    }\n",
       "</style>\n",
       "<table border=\"1\" class=\"dataframe\">\n",
       "  <thead>\n",
       "    <tr style=\"text-align: right;\">\n",
       "      <th></th>\n",
       "      <th>Subject ID</th>\n",
       "      <th>GO / SC Num</th>\n",
       "      <th>Terry Stop ID</th>\n",
       "      <th>Officer ID</th>\n",
       "      <th>Officer YOB</th>\n",
       "      <th>Arrest</th>\n",
       "    </tr>\n",
       "  </thead>\n",
       "  <tbody>\n",
       "    <tr>\n",
       "      <th>Subject ID</th>\n",
       "      <td>1.000000</td>\n",
       "      <td>0.161238</td>\n",
       "      <td>0.786887</td>\n",
       "      <td>0.284673</td>\n",
       "      <td>0.208862</td>\n",
       "      <td>-0.243994</td>\n",
       "    </tr>\n",
       "    <tr>\n",
       "      <th>GO / SC Num</th>\n",
       "      <td>0.161238</td>\n",
       "      <td>1.000000</td>\n",
       "      <td>0.192033</td>\n",
       "      <td>0.101931</td>\n",
       "      <td>0.071668</td>\n",
       "      <td>-0.052190</td>\n",
       "    </tr>\n",
       "    <tr>\n",
       "      <th>Terry Stop ID</th>\n",
       "      <td>0.786887</td>\n",
       "      <td>0.192033</td>\n",
       "      <td>1.000000</td>\n",
       "      <td>0.338936</td>\n",
       "      <td>0.250995</td>\n",
       "      <td>-0.272344</td>\n",
       "    </tr>\n",
       "    <tr>\n",
       "      <th>Officer ID</th>\n",
       "      <td>0.284673</td>\n",
       "      <td>0.101931</td>\n",
       "      <td>0.338936</td>\n",
       "      <td>1.000000</td>\n",
       "      <td>0.772158</td>\n",
       "      <td>-0.064134</td>\n",
       "    </tr>\n",
       "    <tr>\n",
       "      <th>Officer YOB</th>\n",
       "      <td>0.208862</td>\n",
       "      <td>0.071668</td>\n",
       "      <td>0.250995</td>\n",
       "      <td>0.772158</td>\n",
       "      <td>1.000000</td>\n",
       "      <td>-0.015695</td>\n",
       "    </tr>\n",
       "    <tr>\n",
       "      <th>Arrest</th>\n",
       "      <td>-0.243994</td>\n",
       "      <td>-0.052190</td>\n",
       "      <td>-0.272344</td>\n",
       "      <td>-0.064134</td>\n",
       "      <td>-0.015695</td>\n",
       "      <td>1.000000</td>\n",
       "    </tr>\n",
       "  </tbody>\n",
       "</table>\n",
       "</div>"
      ],
      "text/plain": [
       "               Subject ID  GO / SC Num  Terry Stop ID  Officer ID  \\\n",
       "Subject ID       1.000000     0.161238       0.786887    0.284673   \n",
       "GO / SC Num      0.161238     1.000000       0.192033    0.101931   \n",
       "Terry Stop ID    0.786887     0.192033       1.000000    0.338936   \n",
       "Officer ID       0.284673     0.101931       0.338936    1.000000   \n",
       "Officer YOB      0.208862     0.071668       0.250995    0.772158   \n",
       "Arrest          -0.243994    -0.052190      -0.272344   -0.064134   \n",
       "\n",
       "               Officer YOB    Arrest  \n",
       "Subject ID        0.208862 -0.243994  \n",
       "GO / SC Num       0.071668 -0.052190  \n",
       "Terry Stop ID     0.250995 -0.272344  \n",
       "Officer ID        0.772158 -0.064134  \n",
       "Officer YOB       1.000000 -0.015695  \n",
       "Arrest           -0.015695  1.000000  "
      ]
     },
     "execution_count": 21,
     "metadata": {},
     "output_type": "execute_result"
    }
   ],
   "source": [
    "# delete all rows with column 'Age' has value 30 to 40\n",
    "terry.corr()"
   ]
  },
  {
   "cell_type": "code",
   "execution_count": 22,
   "id": "10c92c96",
   "metadata": {},
   "outputs": [],
   "source": [
    "terry['Subject Age Group'].replace(to_replace = '-', value = 'Unknown', inplace = True)"
   ]
  },
  {
   "cell_type": "code",
   "execution_count": 23,
   "id": "2fb4e37b",
   "metadata": {},
   "outputs": [],
   "source": [
    "age_map = {'56 and Above': 7, '46 - 55': 6, '36 - 45': 5, '26 - 35': 4, '18 - 25': 3, '1 - 17': 2, 'Unknown': 1}\n",
    "terry['Subject Age Group']= terry['Subject Age Group'].map(age_map)"
   ]
  },
  {
   "cell_type": "code",
   "execution_count": 24,
   "id": "74f80328",
   "metadata": {},
   "outputs": [
    {
     "data": {
      "text/plain": [
       "4    17940\n",
       "5    11639\n",
       "3    10515\n",
       "6     6894\n",
       "7     2784\n",
       "2     2080\n",
       "1     1826\n",
       "Name: Subject Age Group, dtype: int64"
      ]
     },
     "execution_count": 24,
     "metadata": {},
     "output_type": "execute_result"
    }
   ],
   "source": [
    "terry['Subject Age Group'].value_counts()"
   ]
  },
  {
   "cell_type": "code",
   "execution_count": 25,
   "id": "15c019d1",
   "metadata": {},
   "outputs": [
    {
     "data": {
      "text/html": [
       "<div>\n",
       "<style scoped>\n",
       "    .dataframe tbody tr th:only-of-type {\n",
       "        vertical-align: middle;\n",
       "    }\n",
       "\n",
       "    .dataframe tbody tr th {\n",
       "        vertical-align: top;\n",
       "    }\n",
       "\n",
       "    .dataframe thead th {\n",
       "        text-align: right;\n",
       "    }\n",
       "</style>\n",
       "<table border=\"1\" class=\"dataframe\">\n",
       "  <thead>\n",
       "    <tr style=\"text-align: right;\">\n",
       "      <th></th>\n",
       "      <th>Subject Age Group</th>\n",
       "      <th>Subject ID</th>\n",
       "      <th>GO / SC Num</th>\n",
       "      <th>Terry Stop ID</th>\n",
       "      <th>Officer ID</th>\n",
       "      <th>Officer YOB</th>\n",
       "      <th>Arrest</th>\n",
       "    </tr>\n",
       "  </thead>\n",
       "  <tbody>\n",
       "    <tr>\n",
       "      <th>Subject Age Group</th>\n",
       "      <td>1.000000</td>\n",
       "      <td>0.027895</td>\n",
       "      <td>0.017152</td>\n",
       "      <td>0.053960</td>\n",
       "      <td>0.052215</td>\n",
       "      <td>0.041445</td>\n",
       "      <td>-0.020894</td>\n",
       "    </tr>\n",
       "    <tr>\n",
       "      <th>Subject ID</th>\n",
       "      <td>0.027895</td>\n",
       "      <td>1.000000</td>\n",
       "      <td>0.161238</td>\n",
       "      <td>0.786887</td>\n",
       "      <td>0.284673</td>\n",
       "      <td>0.208862</td>\n",
       "      <td>-0.243994</td>\n",
       "    </tr>\n",
       "    <tr>\n",
       "      <th>GO / SC Num</th>\n",
       "      <td>0.017152</td>\n",
       "      <td>0.161238</td>\n",
       "      <td>1.000000</td>\n",
       "      <td>0.192033</td>\n",
       "      <td>0.101931</td>\n",
       "      <td>0.071668</td>\n",
       "      <td>-0.052190</td>\n",
       "    </tr>\n",
       "    <tr>\n",
       "      <th>Terry Stop ID</th>\n",
       "      <td>0.053960</td>\n",
       "      <td>0.786887</td>\n",
       "      <td>0.192033</td>\n",
       "      <td>1.000000</td>\n",
       "      <td>0.338936</td>\n",
       "      <td>0.250995</td>\n",
       "      <td>-0.272344</td>\n",
       "    </tr>\n",
       "    <tr>\n",
       "      <th>Officer ID</th>\n",
       "      <td>0.052215</td>\n",
       "      <td>0.284673</td>\n",
       "      <td>0.101931</td>\n",
       "      <td>0.338936</td>\n",
       "      <td>1.000000</td>\n",
       "      <td>0.772158</td>\n",
       "      <td>-0.064134</td>\n",
       "    </tr>\n",
       "    <tr>\n",
       "      <th>Officer YOB</th>\n",
       "      <td>0.041445</td>\n",
       "      <td>0.208862</td>\n",
       "      <td>0.071668</td>\n",
       "      <td>0.250995</td>\n",
       "      <td>0.772158</td>\n",
       "      <td>1.000000</td>\n",
       "      <td>-0.015695</td>\n",
       "    </tr>\n",
       "    <tr>\n",
       "      <th>Arrest</th>\n",
       "      <td>-0.020894</td>\n",
       "      <td>-0.243994</td>\n",
       "      <td>-0.052190</td>\n",
       "      <td>-0.272344</td>\n",
       "      <td>-0.064134</td>\n",
       "      <td>-0.015695</td>\n",
       "      <td>1.000000</td>\n",
       "    </tr>\n",
       "  </tbody>\n",
       "</table>\n",
       "</div>"
      ],
      "text/plain": [
       "                   Subject Age Group  Subject ID  GO / SC Num  Terry Stop ID  \\\n",
       "Subject Age Group           1.000000    0.027895     0.017152       0.053960   \n",
       "Subject ID                  0.027895    1.000000     0.161238       0.786887   \n",
       "GO / SC Num                 0.017152    0.161238     1.000000       0.192033   \n",
       "Terry Stop ID               0.053960    0.786887     0.192033       1.000000   \n",
       "Officer ID                  0.052215    0.284673     0.101931       0.338936   \n",
       "Officer YOB                 0.041445    0.208862     0.071668       0.250995   \n",
       "Arrest                     -0.020894   -0.243994    -0.052190      -0.272344   \n",
       "\n",
       "                   Officer ID  Officer YOB    Arrest  \n",
       "Subject Age Group    0.052215     0.041445 -0.020894  \n",
       "Subject ID           0.284673     0.208862 -0.243994  \n",
       "GO / SC Num          0.101931     0.071668 -0.052190  \n",
       "Terry Stop ID        0.338936     0.250995 -0.272344  \n",
       "Officer ID           1.000000     0.772158 -0.064134  \n",
       "Officer YOB          0.772158     1.000000 -0.015695  \n",
       "Arrest              -0.064134    -0.015695  1.000000  "
      ]
     },
     "execution_count": 25,
     "metadata": {},
     "output_type": "execute_result"
    }
   ],
   "source": [
    "terry.corr()"
   ]
  },
  {
   "cell_type": "code",
   "execution_count": 26,
   "id": "6c454bf6",
   "metadata": {},
   "outputs": [],
   "source": [
    "terry['Subject Perceived Race'].replace(to_replace = '-', value = 'Not_listed', inplace = True)\n",
    "terry['Subject Perceived Race'].replace(to_replace = 'Other', value = 'Not_listed', inplace = True)\n",
    "\n",
    "terry['Subject Perceived Race'].value_counts()\n",
    "terry.drop(terry[terry['Subject Perceived Race'] == 'DUPLICATE'].index, inplace = True)\n",
    "terry.drop(terry[terry['Subject Perceived Race'] == 'Unknown'].index, inplace = True)"
   ]
  },
  {
   "cell_type": "code",
   "execution_count": 27,
   "id": "cdb011fa",
   "metadata": {},
   "outputs": [
    {
     "data": {
      "text/plain": [
       "White                                        0.525076\n",
       "Black or African American                    0.317985\n",
       "Not_listed                                   0.039085\n",
       "Asian                                        0.035954\n",
       "Hispanic                                     0.033581\n",
       "American Indian or Alaska Native             0.030211\n",
       "Multi-Racial                                 0.016133\n",
       "Native Hawaiian or Other Pacific Islander    0.001974\n",
       "Name: Subject Perceived Race, dtype: float64"
      ]
     },
     "execution_count": 27,
     "metadata": {},
     "output_type": "execute_result"
    }
   ],
   "source": [
    "terry['Subject Perceived Race'].value_counts(normalize = True)"
   ]
  },
  {
   "cell_type": "code",
   "execution_count": 28,
   "id": "d5f6e897",
   "metadata": {},
   "outputs": [],
   "source": [
    "race_map = {'White': 1, 'Black or African American': 0,'Not_listed' : 2, 'Asian': 2, 'Hispanic': 2,'American Indian or Alaska Native': 2, 'Multi-Racial': 2, 'Native Hawiian or Other Pacific Islander' : 2}\n",
    "terry['Race']= terry['Subject Perceived Race'].map(race_map)"
   ]
  },
  {
   "cell_type": "code",
   "execution_count": 29,
   "id": "2bcf78fe",
   "metadata": {},
   "outputs": [
    {
     "name": "stdout",
     "output_type": "stream",
     "text": [
      "<class 'pandas.core.frame.DataFrame'>\n",
      "Int64Index: 50147 entries, 2 to 53682\n",
      "Data columns (total 4 columns):\n",
      " #   Column             Non-Null Count  Dtype  \n",
      "---  ------             --------------  -----  \n",
      " 0   Subject Age Group  50147 non-null  int64  \n",
      " 1   Officer ID         50147 non-null  int64  \n",
      " 2   Arrest             50147 non-null  float64\n",
      " 3   Race               50048 non-null  float64\n",
      "dtypes: float64(2), int64(2)\n",
      "memory usage: 1.9 MB\n"
     ]
    }
   ],
   "source": [
    "#Column in Which We Dropped Everthing they do not help us answer the question\n",
    "\n",
    "terry.drop(columns = ['Subject ID', 'Stop Resolution','GO / SC Num','Terry Stop ID','Officer YOB','Reported Date','Sector', 'Weapon Type','Officer Race','Officer Gender','Subject Perceived Race','Final Call Type','Call Type','Reported Time','Arrest Flag','Initial Call Type', 'Precinct','Frisk Flag','Sector','Beat','Subject Perceived Gender'], inplace = True)\n",
    "terry.info()"
   ]
  },
  {
   "cell_type": "code",
   "execution_count": 30,
   "id": "38188759",
   "metadata": {},
   "outputs": [],
   "source": [
    "terry.dropna(inplace = True)"
   ]
  },
  {
   "cell_type": "code",
   "execution_count": 31,
   "id": "f549fa47",
   "metadata": {},
   "outputs": [],
   "source": [
    "terry['Arrest'] = terry['Arrest'].astype('int64')"
   ]
  },
  {
   "cell_type": "code",
   "execution_count": 32,
   "id": "37301ff8",
   "metadata": {},
   "outputs": [],
   "source": [
    "terry['Race'] = terry['Race'].astype('int64')"
   ]
  },
  {
   "cell_type": "code",
   "execution_count": 33,
   "id": "0e3ccbc4",
   "metadata": {},
   "outputs": [
    {
     "data": {
      "text/html": [
       "<div>\n",
       "<style scoped>\n",
       "    .dataframe tbody tr th:only-of-type {\n",
       "        vertical-align: middle;\n",
       "    }\n",
       "\n",
       "    .dataframe tbody tr th {\n",
       "        vertical-align: top;\n",
       "    }\n",
       "\n",
       "    .dataframe thead th {\n",
       "        text-align: right;\n",
       "    }\n",
       "</style>\n",
       "<table border=\"1\" class=\"dataframe\">\n",
       "  <thead>\n",
       "    <tr style=\"text-align: right;\">\n",
       "      <th></th>\n",
       "      <th>Subject Age Group</th>\n",
       "      <th>Officer ID</th>\n",
       "      <th>Arrest</th>\n",
       "      <th>Race</th>\n",
       "    </tr>\n",
       "  </thead>\n",
       "  <tbody>\n",
       "    <tr>\n",
       "      <th>2</th>\n",
       "      <td>1</td>\n",
       "      <td>7500</td>\n",
       "      <td>1</td>\n",
       "      <td>2</td>\n",
       "    </tr>\n",
       "    <tr>\n",
       "      <th>3</th>\n",
       "      <td>1</td>\n",
       "      <td>5670</td>\n",
       "      <td>0</td>\n",
       "      <td>2</td>\n",
       "    </tr>\n",
       "    <tr>\n",
       "      <th>4</th>\n",
       "      <td>1</td>\n",
       "      <td>4844</td>\n",
       "      <td>0</td>\n",
       "      <td>1</td>\n",
       "    </tr>\n",
       "    <tr>\n",
       "      <th>5</th>\n",
       "      <td>1</td>\n",
       "      <td>7539</td>\n",
       "      <td>0</td>\n",
       "      <td>2</td>\n",
       "    </tr>\n",
       "    <tr>\n",
       "      <th>6</th>\n",
       "      <td>1</td>\n",
       "      <td>6973</td>\n",
       "      <td>0</td>\n",
       "      <td>0</td>\n",
       "    </tr>\n",
       "    <tr>\n",
       "      <th>...</th>\n",
       "      <td>...</td>\n",
       "      <td>...</td>\n",
       "      <td>...</td>\n",
       "      <td>...</td>\n",
       "    </tr>\n",
       "    <tr>\n",
       "      <th>53678</th>\n",
       "      <td>7</td>\n",
       "      <td>8889</td>\n",
       "      <td>0</td>\n",
       "      <td>0</td>\n",
       "    </tr>\n",
       "    <tr>\n",
       "      <th>53679</th>\n",
       "      <td>7</td>\n",
       "      <td>8857</td>\n",
       "      <td>0</td>\n",
       "      <td>0</td>\n",
       "    </tr>\n",
       "    <tr>\n",
       "      <th>53680</th>\n",
       "      <td>7</td>\n",
       "      <td>6805</td>\n",
       "      <td>0</td>\n",
       "      <td>2</td>\n",
       "    </tr>\n",
       "    <tr>\n",
       "      <th>53681</th>\n",
       "      <td>7</td>\n",
       "      <td>7773</td>\n",
       "      <td>0</td>\n",
       "      <td>1</td>\n",
       "    </tr>\n",
       "    <tr>\n",
       "      <th>53682</th>\n",
       "      <td>7</td>\n",
       "      <td>8890</td>\n",
       "      <td>0</td>\n",
       "      <td>0</td>\n",
       "    </tr>\n",
       "  </tbody>\n",
       "</table>\n",
       "<p>50048 rows × 4 columns</p>\n",
       "</div>"
      ],
      "text/plain": [
       "       Subject Age Group  Officer ID  Arrest  Race\n",
       "2                      1        7500       1     2\n",
       "3                      1        5670       0     2\n",
       "4                      1        4844       0     1\n",
       "5                      1        7539       0     2\n",
       "6                      1        6973       0     0\n",
       "...                  ...         ...     ...   ...\n",
       "53678                  7        8889       0     0\n",
       "53679                  7        8857       0     0\n",
       "53680                  7        6805       0     2\n",
       "53681                  7        7773       0     1\n",
       "53682                  7        8890       0     0\n",
       "\n",
       "[50048 rows x 4 columns]"
      ]
     },
     "execution_count": 33,
     "metadata": {},
     "output_type": "execute_result"
    }
   ],
   "source": [
    "terry"
   ]
  },
  {
   "cell_type": "markdown",
   "id": "28c9b200",
   "metadata": {},
   "source": [
    "\n",
    "## Column Stop Resolution \n",
    "\n",
    "##### Focusing First on The results of the stop we want to get dummy for the stops to put them in there own columns. This way despite the presence of a weapon we can see how the stop was handled \n",
    "\n"
   ]
  },
  {
   "cell_type": "code",
   "execution_count": 34,
   "id": "893f7d53",
   "metadata": {},
   "outputs": [
    {
     "name": "stdout",
     "output_type": "stream",
     "text": [
      "<class 'pandas.core.frame.DataFrame'>\n",
      "Int64Index: 50048 entries, 2 to 53682\n",
      "Data columns (total 4 columns):\n",
      " #   Column             Non-Null Count  Dtype\n",
      "---  ------             --------------  -----\n",
      " 0   Subject Age Group  50048 non-null  int64\n",
      " 1   Officer ID         50048 non-null  int64\n",
      " 2   Arrest             50048 non-null  int64\n",
      " 3   Race               50048 non-null  int64\n",
      "dtypes: int64(4)\n",
      "memory usage: 1.9 MB\n"
     ]
    }
   ],
   "source": [
    "terry.info()"
   ]
  },
  {
   "cell_type": "markdown",
   "id": "b5d0a1d6",
   "metadata": {},
   "source": [
    "## Column Reported Date \n",
    "\n",
    "#### This column is a date and I just want to know if something was reported on that date so I can see if there is a correlation between months and weapons being present on the subject. "
   ]
  },
  {
   "cell_type": "code",
   "execution_count": 35,
   "id": "e89fe837",
   "metadata": {},
   "outputs": [
    {
     "name": "stderr",
     "output_type": "stream",
     "text": [
      "C:\\Users\\metropolitanparkapts\\anaconda3\\lib\\site-packages\\seaborn\\_decorators.py:36: FutureWarning: Pass the following variable as a keyword arg: x. From version 0.12, the only valid positional argument will be `data`, and passing other arguments without an explicit keyword will result in an error or misinterpretation.\n",
      "  warnings.warn(\n"
     ]
    },
    {
     "data": {
      "text/plain": [
       "[Text(0.5, 1.0, 'Arress Over Past Year')]"
      ]
     },
     "execution_count": 35,
     "metadata": {},
     "output_type": "execute_result"
    },
    {
     "data": {
      "image/png": "[encoded data removed]",
      "text/plain": [
       "<Figure size 576x396 with 1 Axes>"
      ]
     },
     "metadata": {},
     "output_type": "display_data"
    }
   ],
   "source": [
    "sns.countplot(terry['Arrest'], color = 'r').set(title = 'Arress Over Past Year')"
   ]
  },
  {
   "cell_type": "markdown",
   "id": "e4a2eb5b",
   "metadata": {},
   "source": [
    "## Modeling \n",
    "\n",
    "#### Beginning Our modeling buy Identifying the target. "
   ]
  },
  {
   "cell_type": "code",
   "execution_count": 36,
   "id": "3844f0e5",
   "metadata": {},
   "outputs": [],
   "source": [
    "logreg = LogisticRegression()\n",
    "dtc = DecisionTreeClassifier()\n",
    "rfc = RandomForestClassifier()\n",
    "knc = KNeighborsClassifier()\n"
   ]
  },
  {
   "cell_type": "code",
   "execution_count": 37,
   "id": "440ffbbe",
   "metadata": {},
   "outputs": [],
   "source": [
    "X = terry.drop(['Arrest'], axis = 1)\n",
    "y = terry['Arrest']"
   ]
  },
  {
   "cell_type": "markdown",
   "id": "2894d036",
   "metadata": {},
   "source": [
    "Noticed the Dash as an age group replaced it with the MODE of the column to better help our model. As this column is also an object I will be mapping each range of ages to a number. "
   ]
  },
  {
   "cell_type": "code",
   "execution_count": 38,
   "id": "8b4d253e",
   "metadata": {},
   "outputs": [],
   "source": [
    "X_train, X_test, y_train, y_test = train_test_split(X, y, test_size=0.20)"
   ]
  },
  {
   "cell_type": "markdown",
   "id": "9ada2572",
   "metadata": {},
   "source": [
    "## Baseline Model Logistic Regresssion"
   ]
  },
  {
   "cell_type": "code",
   "execution_count": 64,
   "id": "241f9fe6",
   "metadata": {},
   "outputs": [
    {
     "data": {
      "text/plain": [
       "0.8427323635597016"
      ]
     },
     "execution_count": 64,
     "metadata": {},
     "output_type": "execute_result"
    }
   ],
   "source": [
    "logreg.fit(X_train, y_train)\n",
    "kfold_validation=KFold(10)\n",
    "results = cross_val_score(logreg,X,y, cv=kfold_validation)\n",
    "results.mean()"
   ]
  },
  {
   "cell_type": "code",
   "execution_count": 40,
   "id": "c5fdab5d",
   "metadata": {
    "scrolled": true
   },
   "outputs": [
    {
     "data": {
      "text/plain": [
       "(0.8420000999050902, 0.8456543456543456)"
      ]
     },
     "execution_count": 40,
     "metadata": {},
     "output_type": "execute_result"
    }
   ],
   "source": [
    "logreg.fit(X_train, y_train)\n",
    "logreg.score(X_train, y_train),model.score(X_test, y_test)"
   ]
  },
  {
   "cell_type": "code",
   "execution_count": 63,
   "id": "eb5368c1",
   "metadata": {},
   "outputs": [
    {
     "data": {
      "text/plain": [
       "array([0.84205005, 0.84197512, 0.84197512])"
      ]
     },
     "execution_count": 63,
     "metadata": {},
     "output_type": "execute_result"
    }
   ],
   "source": [
    "cv_scores = cross_val_score(logreg, X_train, y_train, cv=3)\n",
    "cv_scores"
   ]
  },
  {
   "cell_type": "code",
   "execution_count": 42,
   "id": "6f89ab52",
   "metadata": {},
   "outputs": [
    {
     "name": "stderr",
     "output_type": "stream",
     "text": [
      "C:\\Users\\metropolitanparkapts\\anaconda3\\lib\\site-packages\\sklearn\\utils\\deprecation.py:87: FutureWarning: Function plot_confusion_matrix is deprecated; Function `plot_confusion_matrix` is deprecated in 1.0 and will be removed in 1.2. Use one of the class methods: ConfusionMatrixDisplay.from_predictions or ConfusionMatrixDisplay.from_estimator.\n",
      "  warnings.warn(msg, category=FutureWarning)\n"
     ]
    },
    {
     "data": {
      "image/png": "[encoded data removed]",
      "text/plain": [
       "<Figure size 576x396 with 2 Axes>"
      ]
     },
     "metadata": {},
     "output_type": "display_data"
    }
   ],
   "source": [
    "plot_confusion_matrix(model, X_train, y_train);\n",
    "plt.grid(False)"
   ]
  },
  {
   "cell_type": "markdown",
   "id": "f2091d79",
   "metadata": {},
   "source": [
    "## Random Forrest Classifier "
   ]
  },
  {
   "cell_type": "code",
   "execution_count": 43,
   "id": "c0aa2934",
   "metadata": {},
   "outputs": [
    {
     "data": {
      "text/plain": [
       "0.7957172763287871"
      ]
     },
     "execution_count": 43,
     "metadata": {},
     "output_type": "execute_result"
    }
   ],
   "source": [
    "rfc.fit(X_train, y_train)\n",
    "\n",
    "kfold_validation=KFold(10)\n",
    "results = cross_val_score(rfc,X,y, cv=kfold_validation)\n",
    "results.mean()"
   ]
  },
  {
   "cell_type": "code",
   "execution_count": 57,
   "id": "1dc75871",
   "metadata": {},
   "outputs": [
    {
     "data": {
      "text/plain": [
       "array([0.81005545, 0.80391128, 0.80353664])"
      ]
     },
     "execution_count": 57,
     "metadata": {},
     "output_type": "execute_result"
    }
   ],
   "source": [
    "cv_scores = cross_val_score(rfc, X_train, y_train, cv=3)\n",
    "cv_scores"
   ]
  },
  {
   "cell_type": "code",
   "execution_count": 44,
   "id": "b4c8fa0d",
   "metadata": {},
   "outputs": [
    {
     "name": "stderr",
     "output_type": "stream",
     "text": [
      "C:\\Users\\metropolitanparkapts\\anaconda3\\lib\\site-packages\\sklearn\\utils\\deprecation.py:87: FutureWarning: Function plot_confusion_matrix is deprecated; Function `plot_confusion_matrix` is deprecated in 1.0 and will be removed in 1.2. Use one of the class methods: ConfusionMatrixDisplay.from_predictions or ConfusionMatrixDisplay.from_estimator.\n",
      "  warnings.warn(msg, category=FutureWarning)\n"
     ]
    },
    {
     "data": {
      "image/png": "[encoded data removed]",
      "text/plain": [
       "<Figure size 576x396 with 2 Axes>"
      ]
     },
     "metadata": {},
     "output_type": "display_data"
    }
   ],
   "source": [
    "plot_confusion_matrix(rfc, X_test, y_test);\n",
    "plt.grid(False)"
   ]
  },
  {
   "cell_type": "markdown",
   "id": "0fd12400",
   "metadata": {},
   "source": [
    "## Decisiion Tree Classifier"
   ]
  },
  {
   "cell_type": "code",
   "execution_count": 45,
   "id": "8414f7a3",
   "metadata": {},
   "outputs": [
    {
     "data": {
      "text/plain": [
       "0.8037896476025972"
      ]
     },
     "execution_count": 45,
     "metadata": {},
     "output_type": "execute_result"
    }
   ],
   "source": [
    "dtc.fit(X_train, y_train)\n",
    "\n",
    "kfold_validation=KFold(10)\n",
    "results = cross_val_score(dtc,X,y, cv=kfold_validation)\n",
    "results.mean()"
   ]
  },
  {
   "cell_type": "code",
   "execution_count": 58,
   "id": "9e921dad",
   "metadata": {},
   "outputs": [
    {
     "data": {
      "text/plain": [
       "array([0.81515061, 0.81185374, 0.81297767])"
      ]
     },
     "execution_count": 58,
     "metadata": {},
     "output_type": "execute_result"
    }
   ],
   "source": [
    "cv_scores = cross_val_score(dtc, X_train, y_train, cv=3)\n",
    "cv_scores"
   ]
  },
  {
   "cell_type": "code",
   "execution_count": 46,
   "id": "b66587cc",
   "metadata": {},
   "outputs": [
    {
     "name": "stderr",
     "output_type": "stream",
     "text": [
      "C:\\Users\\metropolitanparkapts\\anaconda3\\lib\\site-packages\\sklearn\\utils\\deprecation.py:87: FutureWarning: Function plot_confusion_matrix is deprecated; Function `plot_confusion_matrix` is deprecated in 1.0 and will be removed in 1.2. Use one of the class methods: ConfusionMatrixDisplay.from_predictions or ConfusionMatrixDisplay.from_estimator.\n",
      "  warnings.warn(msg, category=FutureWarning)\n"
     ]
    },
    {
     "data": {
      "image/png": "[encoded data removed]",
      "text/plain": [
       "<Figure size 576x396 with 2 Axes>"
      ]
     },
     "metadata": {},
     "output_type": "display_data"
    }
   ],
   "source": [
    "plot_confusion_matrix(dtc, X_train, y_train);\n",
    "plt.grid(False)"
   ]
  },
  {
   "cell_type": "markdown",
   "id": "838b5529",
   "metadata": {},
   "source": [
    "## Kneighbors Classification Model"
   ]
  },
  {
   "cell_type": "code",
   "execution_count": 47,
   "id": "002eec6c",
   "metadata": {},
   "outputs": [
    {
     "data": {
      "text/plain": [
       "0.8079058830857392"
      ]
     },
     "execution_count": 47,
     "metadata": {},
     "output_type": "execute_result"
    }
   ],
   "source": [
    "knc.fit(X_train, y_train)\n",
    "\n",
    "kfold_validation=KFold(10)\n",
    "results = cross_val_score(knc,X,y, cv=kfold_validation)\n",
    "results.mean()"
   ]
  },
  {
   "cell_type": "code",
   "execution_count": 59,
   "id": "73cba63a",
   "metadata": {},
   "outputs": [
    {
     "data": {
      "text/plain": [
       "array([0.81972126, 0.81754833, 0.8179979 ])"
      ]
     },
     "execution_count": 59,
     "metadata": {},
     "output_type": "execute_result"
    }
   ],
   "source": [
    "cv_scores = cross_val_score(knc, X_train, y_train, cv=3)\n",
    "cv_scores"
   ]
  },
  {
   "cell_type": "code",
   "execution_count": 49,
   "id": "5ed62253",
   "metadata": {},
   "outputs": [
    {
     "name": "stderr",
     "output_type": "stream",
     "text": [
      "C:\\Users\\metropolitanparkapts\\anaconda3\\lib\\site-packages\\sklearn\\utils\\deprecation.py:87: FutureWarning: Function plot_confusion_matrix is deprecated; Function `plot_confusion_matrix` is deprecated in 1.0 and will be removed in 1.2. Use one of the class methods: ConfusionMatrixDisplay.from_predictions or ConfusionMatrixDisplay.from_estimator.\n",
      "  warnings.warn(msg, category=FutureWarning)\n"
     ]
    },
    {
     "data": {
      "image/png": "[encoded data removed]",
      "text/plain": [
       "<Figure size 576x396 with 2 Axes>"
      ]
     },
     "metadata": {},
     "output_type": "display_data"
    }
   ],
   "source": [
    "plot_confusion_matrix(knc, X_train, y_train);\n",
    "plt.grid(False)"
   ]
  },
  {
   "cell_type": "markdown",
   "id": "b450fc2a",
   "metadata": {},
   "source": [
    "## Model Improvements\n",
    "    - Typically during this section I focus on feature selection. However due to the fact that that my features are only a few I will avoid this. This can be improved upon in the future \n",
    "    -I will due model improvements directly to the model parameter and keep the features in the same way"
   ]
  },
  {
   "cell_type": "code",
   "execution_count": 50,
   "id": "56e87d5c",
   "metadata": {
    "scrolled": true
   },
   "outputs": [],
   "source": [
    "logistic_regression_params={'solver': ['liblinear'], 'max_iter':[40]} \n",
    "decision_tree_params={'splitter': ['best']}\n",
    "random_forrest_params={'n_estimators': [50, 100, 150, 200],'max_depth': [2, 5, 10, None]}\n",
    "k_neighbors_params = {'n_neighbors':[3]}\n"
   ]
  },
  {
   "cell_type": "markdown",
   "id": "a6f46d9d",
   "metadata": {},
   "source": [
    "###  Logistic Regression 2"
   ]
  },
  {
   "cell_type": "code",
   "execution_count": 51,
   "id": "8d1fc3a0",
   "metadata": {},
   "outputs": [
    {
     "name": "stdout",
     "output_type": "stream",
     "text": [
      "Fitting 3 folds for each of 1 candidates, totalling 3 fits\n",
      "0.8427309782608695 0.00012708095056551024 0.25 0.00025403277022735933\n"
     ]
    }
   ],
   "source": [
    "log_grid=GridSearchCV(LogisticRegression(),logistic_regression_params, scoring=\"accuracy\",cv=3,verbose=1)\n",
    "log_grid.fit(X_train,y_train)\n",
    "log_pred =log_grid.predict(X)\n",
    "print(accuracy_score(y,log_pred),recall_score(y,log_pred), precision_score(y,log_pred), f1_score(y,log_pred))"
   ]
  },
  {
   "cell_type": "code",
   "execution_count": 62,
   "id": "1639c3f1",
   "metadata": {},
   "outputs": [
    {
     "name": "stdout",
     "output_type": "stream",
     "text": [
      "Fitting 3 folds for each of 1 candidates, totalling 3 fits\n",
      "Fitting 3 folds for each of 1 candidates, totalling 3 fits\n",
      "Fitting 3 folds for each of 1 candidates, totalling 3 fits\n"
     ]
    },
    {
     "data": {
      "text/plain": [
       "array([0.84205005, 0.84197512, 0.84197512])"
      ]
     },
     "execution_count": 62,
     "metadata": {},
     "output_type": "execute_result"
    }
   ],
   "source": [
    "cv_scores = cross_val_score(log_grid, X_train, y_train, cv=3)\n",
    "cv_scores"
   ]
  },
  {
   "cell_type": "markdown",
   "id": "3fb702df",
   "metadata": {},
   "source": [
    "### Decision Tree 2"
   ]
  },
  {
   "cell_type": "code",
   "execution_count": 52,
   "id": "03ddcf40",
   "metadata": {},
   "outputs": [
    {
     "name": "stdout",
     "output_type": "stream",
     "text": [
      "Fitting 3 folds for each of 1 candidates, totalling 3 fits\n",
      "0.8625719309462916 0.2371330537552421 0.6807734403502371 0.3517436380772856\n"
     ]
    }
   ],
   "source": [
    "dt_grid=GridSearchCV(DecisionTreeClassifier(),decision_tree_params, scoring=\"accuracy\",cv=3,verbose=1)\n",
    "dt_grid.fit(X_train,y_train)\n",
    "dt_pred =dt_grid.predict(X)\n",
    "print(accuracy_score(y,dt_pred),recall_score(y,dt_pred), precision_score(y,dt_pred), f1_score(y,dt_pred))"
   ]
  },
  {
   "cell_type": "code",
   "execution_count": 65,
   "id": "a0ceaf53",
   "metadata": {},
   "outputs": [
    {
     "name": "stdout",
     "output_type": "stream",
     "text": [
      "Fitting 3 folds for each of 1 candidates, totalling 3 fits\n",
      "Fitting 3 folds for each of 1 candidates, totalling 3 fits\n",
      "Fitting 3 folds for each of 1 candidates, totalling 3 fits\n"
     ]
    },
    {
     "data": {
      "text/plain": [
       "array([0.81560018, 0.81125431, 0.81230331])"
      ]
     },
     "execution_count": 65,
     "metadata": {},
     "output_type": "execute_result"
    }
   ],
   "source": [
    "cv_scores = cross_val_score(dt_grid, X_train, y_train, cv=3)\n",
    "cv_scores"
   ]
  },
  {
   "cell_type": "markdown",
   "id": "41f341a6",
   "metadata": {},
   "source": [
    "### Random Forrest Classifier"
   ]
  },
  {
   "cell_type": "code",
   "execution_count": 67,
   "id": "63fe3862",
   "metadata": {},
   "outputs": [
    {
     "name": "stdout",
     "output_type": "stream",
     "text": [
      "Fitting 3 folds for each of 16 candidates, totalling 48 fits\n",
      "0.8427709398976982 0.0 0.0 0.0\n"
     ]
    },
    {
     "name": "stderr",
     "output_type": "stream",
     "text": [
      "C:\\Users\\metropolitanparkapts\\anaconda3\\lib\\site-packages\\sklearn\\metrics\\_classification.py:1318: UndefinedMetricWarning: Precision is ill-defined and being set to 0.0 due to no predicted samples. Use `zero_division` parameter to control this behavior.\n",
      "  _warn_prf(average, modifier, msg_start, len(result))\n"
     ]
    }
   ],
   "source": [
    "rand_grid=GridSearchCV(RandomForestClassifier(),random_forrest_params, scoring=\"accuracy\",cv=3,verbose=1)\n",
    "rand_grid.fit(X_train,y_train)\n",
    "rand_pred =rand_grid.predict(X)\n",
    "print(accuracy_score(y,rand_pred),recall_score(y,rand_pred), precision_score(y,rand_pred), f1_score(y,rand_pred))"
   ]
  },
  {
   "cell_type": "code",
   "execution_count": 61,
   "id": "a75a5263",
   "metadata": {},
   "outputs": [
    {
     "name": "stdout",
     "output_type": "stream",
     "text": [
      "Fitting 3 folds for each of 16 candidates, totalling 48 fits\n",
      "Fitting 3 folds for each of 16 candidates, totalling 48 fits\n",
      "Fitting 3 folds for each of 16 candidates, totalling 48 fits\n"
     ]
    },
    {
     "data": {
      "text/plain": [
       "array([0.84205005, 0.84205005, 0.84197512])"
      ]
     },
     "execution_count": 61,
     "metadata": {},
     "output_type": "execute_result"
    }
   ],
   "source": [
    "cv_scores = cross_val_score(rand_grid, X_train, y_train, cv=3)\n",
    "cv_scores"
   ]
  },
  {
   "cell_type": "markdown",
   "id": "6418842e",
   "metadata": {},
   "source": [
    "### K-N-N"
   ]
  },
  {
   "cell_type": "code",
   "execution_count": 54,
   "id": "c5aee951",
   "metadata": {},
   "outputs": [
    {
     "name": "stdout",
     "output_type": "stream",
     "text": [
      "Fitting 3 folds for each of 1 candidates, totalling 3 fits\n",
      "0.83755594629156 0.2982589909772525 0.4736629667003027 0.36603243917654393\n"
     ]
    }
   ],
   "source": [
    "kn_grid=GridSearchCV(KNeighborsClassifier(),k_neighbors_params, scoring=\"accuracy\",cv=3,verbose=1)\n",
    "kn_grid.fit(X_train,y_train)\n",
    "kn_pred =kn_grid.predict(X)\n",
    "print(accuracy_score(y,kn_pred),recall_score(y,kn_pred), precision_score(y,kn_pred), f1_score(y,kn_pred))"
   ]
  },
  {
   "cell_type": "code",
   "execution_count": 60,
   "id": "bfc584e8",
   "metadata": {},
   "outputs": [
    {
     "name": "stdout",
     "output_type": "stream",
     "text": [
      "Fitting 3 folds for each of 1 candidates, totalling 3 fits\n",
      "Fitting 3 folds for each of 1 candidates, totalling 3 fits\n",
      "Fitting 3 folds for each of 1 candidates, totalling 3 fits\n"
     ]
    },
    {
     "data": {
      "text/plain": [
       "array([0.80181328, 0.80211299, 0.80023977])"
      ]
     },
     "execution_count": 60,
     "metadata": {},
     "output_type": "execute_result"
    }
   ],
   "source": [
    "cv_scores = cross_val_score(kn_grid, X_train, y_train, cv=3)\n",
    "cv_scores"
   ]
  },
  {
   "cell_type": "markdown",
   "id": "860af0c3",
   "metadata": {},
   "source": [
    "### Conclusion\n",
    "The Decision Tree was the most accurate thing when it comes to modeling the accuracy demonstrated by the decision tree model reached 86 percent which while being the most accurate more than likely implies overfitting. \n",
    "\n",
    "#### Improvements \n",
    "We can improve upon the modeling if we find higher correlating features or utilize the features that were provided such as weapons or precinct to better determine whether or not those type of things have a direct impact on arrest. \n",
    "\n",
    "We could also add some kind of weight to things like different races or percieved races to say that races that have a lower percentage as far as population is concerned have a higher impact towards being arrested. \n",
    "\n",
    "#### Future Analysis\n",
    "I would love to take the statics of time factor such as month and render the months as a feature to see if there is a greater correlation to the Chance of you getting arrested. \n",
    "\n",
    "Features utilized in the analysis\n",
    "\n",
    "Race \n",
    "Officer ID\n",
    "Subject Age Group\n",
    "\n"
   ]
  },
  {
   "cell_type": "code",
   "execution_count": null,
   "id": "5071e180",
   "metadata": {},
   "outputs": [],
   "source": []
  }
 ],
 "metadata": {
  "kernelspec": {
   "display_name": "Python 3",
   "language": "python",
   "name": "python3"
  },
  "language_info": {
   "codemirror_mode": {
    "name": "ipython",
    "version": 3
   },
   "file_extension": ".py",
   "mimetype": "text/x-python",
   "name": "python",
   "nbconvert_exporter": "python",
   "pygments_lexer": "ipython3",
   "version": "3.8.8"
  }
 },
 "nbformat": 4,
 "nbformat_minor": 5
}
